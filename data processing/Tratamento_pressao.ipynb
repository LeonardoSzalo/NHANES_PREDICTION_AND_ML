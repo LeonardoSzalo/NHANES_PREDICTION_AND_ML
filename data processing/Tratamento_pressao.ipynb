{
 "cells": [
  {
   "cell_type": "code",
   "execution_count": 11,
   "id": "2b73ac9c-1406-4e5e-abc5-874ed2ff7753",
   "metadata": {},
   "outputs": [],
   "source": [
    "import pandas as pd\n",
    "import seaborn as sns\n",
    "import matplotlib.pyplot as plt\n",
    "from sklearn.impute import KNNImputer\n",
    "import numpy as np\n",
    "\n",
    "pd.set_option('display.max_columns', None)\n",
    "\n",
    "\n",
    "#ler df\n",
    "df_pressao= pd.read_sas('P_BPXO.XPT', format='xport')\n",
    "\n",
    "\n",
    "df_pressao = df_pressao [['SEQN', 'BPXOSY1', 'BPXODI1']]\n",
    "\n",
    "df_pressao.rename(columns={'BPXOSY1': 'SYSTOLIC_PRESSURE', 'BPXODI1': 'DIASTOLIC_PRESSURE'}, inplace=True)\n",
    "\n",
    "df_pressao.dropna(inplace=True)\n",
    "\n",
    "\n",
    "\n",
    "df_pressao.to_csv('dados_pressao_tratados.csv', index=False)"
   ]
  },
  {
   "cell_type": "code",
   "execution_count": null,
   "id": "74e2cdd4-f594-4bd2-891f-8dfad991166d",
   "metadata": {},
   "outputs": [],
   "source": []
  }
 ],
 "metadata": {
  "kernelspec": {
   "display_name": "Python 3 (ipykernel)",
   "language": "python",
   "name": "python3"
  },
  "language_info": {
   "codemirror_mode": {
    "name": "ipython",
    "version": 3
   },
   "file_extension": ".py",
   "mimetype": "text/x-python",
   "name": "python",
   "nbconvert_exporter": "python",
   "pygments_lexer": "ipython3",
   "version": "3.11.7"
  }
 },
 "nbformat": 4,
 "nbformat_minor": 5
}
