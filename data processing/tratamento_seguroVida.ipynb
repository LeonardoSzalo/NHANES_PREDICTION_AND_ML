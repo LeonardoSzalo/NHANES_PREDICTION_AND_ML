{
 "cells": [
  {
   "cell_type": "code",
   "execution_count": 22,
   "id": "d983fb40-8d2a-4963-b683-977dec4e5d19",
   "metadata": {},
   "outputs": [],
   "source": [
    "import pandas as pd\n",
    "import seaborn as sns\n",
    "import matplotlib.pyplot as plt\n",
    "from sklearn.impute import KNNImputer\n",
    "import numpy as np\n",
    "\n",
    "pd.set_option('display.max_columns', None)\n",
    "\n",
    "\n",
    "#ler df\n",
    "df_convenio = pd.read_sas('P_HIQ.XPT', format='xport')\n",
    "\n",
    "df_convenio.isna().sum()\n",
    "\n",
    "df_convenio = df_convenio[['SEQN', 'HIQ011']]\n",
    "\n",
    "df_convenio.rename(columns={'HIQ011': 'HEALTH_INSURANCE'}, inplace=True)\n",
    "\n",
    "\n",
    "df_convenio.to_csv('dados_seguroVida_tratados.csv', index=False)"
   ]
  },
  {
   "cell_type": "code",
   "execution_count": null,
   "id": "aab0365a-ae4f-480f-a04a-b259447df6e9",
   "metadata": {},
   "outputs": [],
   "source": []
  }
 ],
 "metadata": {
  "kernelspec": {
   "display_name": "Python 3 (ipykernel)",
   "language": "python",
   "name": "python3"
  },
  "language_info": {
   "codemirror_mode": {
    "name": "ipython",
    "version": 3
   },
   "file_extension": ".py",
   "mimetype": "text/x-python",
   "name": "python",
   "nbconvert_exporter": "python",
   "pygments_lexer": "ipython3",
   "version": "3.11.7"
  }
 },
 "nbformat": 4,
 "nbformat_minor": 5
}
