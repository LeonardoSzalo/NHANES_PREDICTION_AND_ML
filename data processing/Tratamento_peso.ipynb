{
 "cells": [
  {
   "cell_type": "code",
   "execution_count": null,
   "id": "0af9964f-e801-4b9c-9873-dd7a0e0b543d",
   "metadata": {},
   "outputs": [],
   "source": [
    "import pandas as pd\n",
    "import seaborn as sns\n",
    "import matplotlib.pyplot as plt\n",
    "from sklearn.impute import KNNImputer\n",
    "import numpy as np\n",
    "\n",
    "pd.set_option('display.max_columns', None)\n",
    "\n",
    "\n",
    "#ler df\n",
    "df_peso = pd.read_sas('P_BMX.XPT', format='xport')\n",
    "\n",
    "df_peso = df_peso [['SEQN', 'BMXWT', 'BMXHT', 'BMXBMI', 'BMXWAIST']]\n",
    "\n",
    "df_peso.rename(columns = {'BMXWT': 'WEIGHT', 'BMXHT': 'HEIGHT', 'BMXBMI': 'BMI', 'BMXWAIST': 'WAIST'}, inplace=True)\n",
    "\n",
    "df_peso.dropna(inplace=True)\n",
    "\n",
    "df_peso.to_csv('dados_peso_tratados.csv', index=False)"
   ]
  }
 ],
 "metadata": {
  "kernelspec": {
   "display_name": "Python 3 (ipykernel)",
   "language": "python",
   "name": "python3"
  },
  "language_info": {
   "codemirror_mode": {
    "name": "ipython",
    "version": 3
   },
   "file_extension": ".py",
   "mimetype": "text/x-python",
   "name": "python",
   "nbconvert_exporter": "python",
   "pygments_lexer": "ipython3",
   "version": "3.11.7"
  }
 },
 "nbformat": 4,
 "nbformat_minor": 5
}
