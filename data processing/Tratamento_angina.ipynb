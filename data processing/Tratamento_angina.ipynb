{
 "cells": [
  {
   "cell_type": "code",
   "execution_count": null,
   "id": "2a18645f-39d3-44c8-a113-5410098bd5f6",
   "metadata": {},
   "outputs": [],
   "source": []
  },
  {
   "cell_type": "code",
   "execution_count": null,
   "id": "03dd5569-3173-45fa-8694-fc87e9a6aa09",
   "metadata": {},
   "outputs": [],
   "source": [
    "import pandas as pd\n",
    "import seaborn as sns\n",
    "import matplotlib.pyplot as plt\n",
    "from sklearn.impute import KNNImputer\n",
    "import numpy as np\n",
    "\n",
    "pd.set_option('display.max_columns', None)\n",
    "\n",
    "\n",
    "df_angina = pd.read_sas('P_CDQ.XPT', format='xport')\n",
    "\n",
    "\n",
    "#FUNÇÃO PARA CLASSIFICAR EM 0: SEM ANGINA, 1: ANGINA 1 SEGUNDO NHANES, 2: ANGINA 2 SEGUNDO NHANES\n",
    "\n",
    "def classify_angina(row):\n",
    "    if (row['CDQ001'] == 1 and row['CDQ002'] == 1 and row['CDQ003'] != 1 and \n",
    "        row['CDQ004'] == 1 and row['CDQ005'] == 1 and row['CDQ006'] == 1 and \n",
    "        ((row['CDQ009D'] == 4 or row['CDQ009E'] == 5) or \n",
    "         (row['CDQ009F'] == 6 and row['CDQ009G'] == 7))):\n",
    "        return 1  # Grade 1 Angina\n",
    "    elif (row['CDQ001'] == 1 and row['CDQ002'] == 1 and row['CDQ003'] == 1 and \n",
    "          row['CDQ004'] == 1 and row['CDQ005'] == 1 and row['CDQ006'] == 1 and \n",
    "          ((row['CDQ009D'] == 4 or row['CDQ009E'] == 5) or \n",
    "           (row['CDQ009F'] == 6 and row['CDQ009G'] == 7))):\n",
    "        return 2  # Grade 2 Angina\n",
    "    else:\n",
    "        return 0  # No Angina\n",
    "\n",
    "# Aplicando a função ao DataFrame\n",
    "df_angina['ANGINA_GRADE'] = df_angina.apply(classify_angina, axis=1)\n",
    "\n",
    "df_angina = df_angina[['SEQN', 'ANGINA_GRADE']]\n",
    "\n",
    "df_angina.to_csv('dados_anfina_tratados.csv', index=False)"
   ]
  },
  {
   "cell_type": "code",
   "execution_count": null,
   "id": "2e8e120e-d371-4efb-ba0b-1791b55b1e3b",
   "metadata": {},
   "outputs": [],
   "source": []
  }
 ],
 "metadata": {
  "kernelspec": {
   "display_name": "Python 3 (ipykernel)",
   "language": "python",
   "name": "python3"
  },
  "language_info": {
   "codemirror_mode": {
    "name": "ipython",
    "version": 3
   },
   "file_extension": ".py",
   "mimetype": "text/x-python",
   "name": "python",
   "nbconvert_exporter": "python",
   "pygments_lexer": "ipython3",
   "version": "3.11.7"
  }
 },
 "nbformat": 4,
 "nbformat_minor": 5
}
