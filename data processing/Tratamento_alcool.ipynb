{
 "cells": [
  {
   "cell_type": "code",
   "execution_count": null,
   "id": "0e664f45-090e-486f-b776-18ebb5582411",
   "metadata": {},
   "outputs": [],
   "source": [
    "import pandas as pd\n",
    "import seaborn as sns\n",
    "import matplotlib.pyplot as plt\n",
    "import numpy as np\n",
    "from sklearn.metrics import accuracy_score\n",
    "from sklearn.impute import KNNImputer\n",
    "\n",
    "\n",
    "\n",
    "pd.set_option('display.max_columns', None)\n",
    "\n",
    "df_alcohol = pd.read_sas('P_ALQ.XPT', format='xport')\n",
    "\n",
    "df_alcohol = df_alcohol[['SEQN', 'ALQ121','ALQ130' ]]\n",
    "\n",
    "# Separando o identificador dos dados a serem imputados\n",
    "df_identifiers = df_alcohol[['SEQN']]  # Mantém o identificador intacto\n",
    "df_categorical = df_alcohol[['ALQ121', 'ALQ130']]  # Colunas a serem imputadas\n",
    "\n",
    "# Instanciando o imputador KNN com 7 vizinhos\n",
    "imputer = KNNImputer(n_neighbors=7)\n",
    "\n",
    "# Convertendo colunas para float (necessário para imputação com KNN)\n",
    "df_categorical_float = df_categorical.astype(float)\n",
    "\n",
    "# Imputando valores para as colunas categóricas\n",
    "df_categorical_imputed = imputer.fit_transform(df_categorical_float)\n",
    "\n",
    "# Convertendo o array resultante de volta para DataFrame\n",
    "df_categorical_imputed = pd.DataFrame(df_categorical_imputed, columns=df_categorical.columns)\n",
    "\n",
    "# Arredondando as colunas imputadas e convertendo de volta para categórico\n",
    "df_categorical_imputed = df_categorical_imputed.round().astype('int')\n",
    "\n",
    "# Convertendo as colunas de volta para categórico\n",
    "df_categorical_imputed['ALQ121'] = df_categorical_imputed['ALQ121'].astype('category')\n",
    "df_categorical_imputed['ALQ130'] = df_categorical_imputed['ALQ130'].astype('category')\n",
    "\n",
    "# Concatenando o identificador com as colunas imputadas\n",
    "df_alcohol_imputed = pd.concat([df_identifiers, df_categorical_imputed], axis=1)\n",
    "\n",
    "df_alcohol = df_alcohol_imputed\n",
    "\n",
    "df_alcohol = df_alcohol.rename(columns ={'ALQ121': 'ALCOHOL_FREQUENCY', 'ALQ130': 'ALCOHOL_QUANTITY'})\n",
    "\n",
    "df_alcohol\n",
    "\n",
    "df_alcohol.to_csv('dados_alcool_tratados.csv', index=False)\n"
   ]
  },
  {
   "cell_type": "code",
   "execution_count": null,
   "id": "c0f404f1-1bf0-434f-8ee0-37cc7dc94e21",
   "metadata": {},
   "outputs": [],
   "source": []
  }
 ],
 "metadata": {
  "kernelspec": {
   "display_name": "Python 3 (ipykernel)",
   "language": "python",
   "name": "python3"
  },
  "language_info": {
   "codemirror_mode": {
    "name": "ipython",
    "version": 3
   },
   "file_extension": ".py",
   "mimetype": "text/x-python",
   "name": "python",
   "nbconvert_exporter": "python",
   "pygments_lexer": "ipython3",
   "version": "3.11.7"
  }
 },
 "nbformat": 4,
 "nbformat_minor": 5
}
