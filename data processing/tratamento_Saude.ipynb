{
 "cells": [
  {
   "cell_type": "code",
   "execution_count": 6,
   "id": "1e2f973c-5b6e-453b-a97e-ce9c496a5d5d",
   "metadata": {},
   "outputs": [],
   "source": [
    "import pandas as pd\n",
    "import seaborn as sns\n",
    "import matplotlib.pyplot as plt\n",
    "from sklearn.impute import KNNImputer\n",
    "import numpy as np\n",
    "\n",
    "pd.set_option('display.max_columns', None)\n",
    "\n",
    "\n",
    "#ler df\n",
    "df_saude = pd.read_sas('P_MCQ.XPT', format='xport')\n",
    "\n",
    "\n",
    "df_saude = df_saude[['SEQN','MCQ010','MCQ092', 'MCQ160A', 'MCQ160B', 'MCQ160C', 'MCQ160E', 'MCQ160F', 'MCQ160M', 'MCQ160P', 'MCQ160L', 'MCQ520',\n",
    "                    'MCQ550', 'MCQ220']]\n",
    "\n",
    "df_saude.rename(columns={'MCQ010': 'ASTHMA', 'MCQ092': 'BLOOD_TRANSFUSION', 'MCQ160A': 'ARTHRITIS', 'MCQ160B': 'CONGESTIVE_HEART_FAILURE', 'MCQ160C': 'CORONARY_DISEASE',\n",
    "'MCQ160E': 'HEART_ATTACK', 'MCQ160F': 'STROKE', 'MCQ160M': 'THYROID_PROBLEMA', 'MCQ160P': 'COPD', 'MCQ160L': 'LIVER_DISEASE', \n",
    "'MCQ520': 'ABDOMINAL_PAIN', 'MCQ550': 'GALLSTONES', 'MCQ220': 'CANCER'}, inplace=True)\n",
    "\n",
    "df_saude.isna().sum()\n",
    "\n",
    "#Como essas são variáveis alvos, escolhi por remover os missings para não prejudicar o algoritmo com informações incorretas\n",
    "df_saude.dropna(inplace=True)\n",
    "\n",
    "df_saude.to_csv('dados_Saude_tratados.csv', index=False)"
   ]
  },
  {
   "cell_type": "code",
   "execution_count": null,
   "id": "4fdf685e-0a1b-4912-b17e-a6f8ca745e8d",
   "metadata": {},
   "outputs": [],
   "source": []
  }
 ],
 "metadata": {
  "kernelspec": {
   "display_name": "Python 3 (ipykernel)",
   "language": "python",
   "name": "python3"
  },
  "language_info": {
   "codemirror_mode": {
    "name": "ipython",
    "version": 3
   },
   "file_extension": ".py",
   "mimetype": "text/x-python",
   "name": "python",
   "nbconvert_exporter": "python",
   "pygments_lexer": "ipython3",
   "version": "3.11.7"
  }
 },
 "nbformat": 4,
 "nbformat_minor": 5
}
