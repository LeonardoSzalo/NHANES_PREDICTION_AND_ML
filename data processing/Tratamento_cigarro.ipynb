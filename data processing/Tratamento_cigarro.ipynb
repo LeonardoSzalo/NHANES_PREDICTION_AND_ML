{
 "cells": [
  {
   "cell_type": "code",
   "execution_count": null,
   "id": "0d8992c2-d261-4d3a-9b5d-e1a8905ca163",
   "metadata": {},
   "outputs": [],
   "source": [
    "import pandas as pd\n",
    "import seaborn as sns\n",
    "import matplotlib.pyplot as plt\n",
    "from sklearn.impute import KNNImputer\n",
    "import numpy as np\n",
    "\n",
    "pd.set_option('display.max_columns', None)\n",
    "\n",
    "\n",
    "#ler df\n",
    "df_cigarro = pd.read_sas('P_SMQ.XPT', format='xport')\n",
    "\n",
    "df_cigarro=df_cigarro[['SEQN', 'SMQ020']]\n",
    "\n",
    "df_cigarro.rename(columns={'SMQ020':'SMOKE'}, inplace=True)\n",
    "\n",
    "df_cigarro.dropna(subset=['SMOKE'], inplace=True)\n",
    "\n",
    "df_cigarro.to_csv('dados_cigarro_tratados.csv', index=False)"
   ]
  },
  {
   "cell_type": "code",
   "execution_count": null,
   "id": "d69bc70e-e351-4d3e-b402-a1abf6c997b4",
   "metadata": {},
   "outputs": [],
   "source": []
  }
 ],
 "metadata": {
  "kernelspec": {
   "display_name": "Python 3 (ipykernel)",
   "language": "python",
   "name": "python3"
  },
  "language_info": {
   "codemirror_mode": {
    "name": "ipython",
    "version": 3
   },
   "file_extension": ".py",
   "mimetype": "text/x-python",
   "name": "python",
   "nbconvert_exporter": "python",
   "pygments_lexer": "ipython3",
   "version": "3.11.7"
  }
 },
 "nbformat": 4,
 "nbformat_minor": 5
}
