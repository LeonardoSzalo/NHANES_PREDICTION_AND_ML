{
 "cells": [
  {
   "cell_type": "code",
   "execution_count": 16,
   "id": "c7ea322b-5b05-49e7-a420-f8ee88a79b99",
   "metadata": {},
   "outputs": [],
   "source": [
    "import pandas as pd\n",
    "import seaborn as sns\n",
    "import matplotlib.pyplot as plt\n",
    "from sklearn.impute import KNNImputer\n",
    "import numpy as np\n",
    "\n",
    "pd.set_option('display.max_columns', None)\n",
    "\n",
    "\n",
    "#ler df\n",
    "df_rim = pd.read_sas('P_KIQ_U.XPT', format='xport')\n",
    "\n",
    "df_rim = df_rim [['SEQN', 'KIQ022', 'KIQ025']]\n",
    "\n",
    "#O valor 2 indica que o indivíduo não passou por diálise\n",
    "df_rim.fillna(2, inplace=True)\n",
    "\n",
    "\n",
    "df_rim.rename(columns={'KIQ022': 'KIDNEY_DISEASE', 'KIQ025': 'DIALYSES'}, inplace=True)\n",
    "\n",
    "\n",
    "df_rim.to_csv('dados_CondicaoRenal_tratados.csv', index=False)"
   ]
  },
  {
   "cell_type": "code",
   "execution_count": null,
   "id": "e8d79ca7-2df6-4e54-9e95-6fcfe9c564fe",
   "metadata": {},
   "outputs": [],
   "source": []
  }
 ],
 "metadata": {
  "kernelspec": {
   "display_name": "Python 3 (ipykernel)",
   "language": "python",
   "name": "python3"
  },
  "language_info": {
   "codemirror_mode": {
    "name": "ipython",
    "version": 3
   },
   "file_extension": ".py",
   "mimetype": "text/x-python",
   "name": "python",
   "nbconvert_exporter": "python",
   "pygments_lexer": "ipython3",
   "version": "3.11.7"
  }
 },
 "nbformat": 4,
 "nbformat_minor": 5
}
