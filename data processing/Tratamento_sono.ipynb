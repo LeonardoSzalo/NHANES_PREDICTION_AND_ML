{
 "cells": [
  {
   "cell_type": "code",
   "execution_count": null,
   "id": "e7c1e78e-2676-4738-8870-72884bc8e276",
   "metadata": {},
   "outputs": [],
   "source": [
    "import pandas as pd\n",
    "import seaborn as sns\n",
    "import matplotlib.pyplot as plt\n",
    "from sklearn.impute import KNNImputer\n",
    "import numpy as np\n",
    "\n",
    "pd.set_option('display.max_columns', None)\n",
    "\n",
    "\n",
    "#ler df\n",
    "df_sono = pd.read_sas('P_SLQ.XPT', format='xport')\n",
    "\n",
    "df_sono = df_sono[['SEQN', 'SLQ300', 'SLD012', 'SLQ030', 'SLQ040', 'SLQ050', 'SLQ120' ]]\n",
    "\n",
    "df_sono.rename(columns={'SLQ300': 'SLEEP_TIME', 'SLD012': 'SLEEP_HOURS', 'SLQ030': 'SNORE', 'SLQ040':'SNORT', 'SLQ050': 'TROUBLE_SLEEPING', \n",
    "                       'SLQ120': 'OVERLY_SLEEPY'}, inplace=True)\n",
    "\n",
    "df_sono.dropna(inplace=True)\n",
    "\n",
    "df_sono.to_csv('dados_sono_tratados.csv', index=False)"
   ]
  }
 ],
 "metadata": {
  "kernelspec": {
   "display_name": "Python 3 (ipykernel)",
   "language": "python",
   "name": "python3"
  },
  "language_info": {
   "codemirror_mode": {
    "name": "ipython",
    "version": 3
   },
   "file_extension": ".py",
   "mimetype": "text/x-python",
   "name": "python",
   "nbconvert_exporter": "python",
   "pygments_lexer": "ipython3",
   "version": "3.11.7"
  }
 },
 "nbformat": 4,
 "nbformat_minor": 5
}
