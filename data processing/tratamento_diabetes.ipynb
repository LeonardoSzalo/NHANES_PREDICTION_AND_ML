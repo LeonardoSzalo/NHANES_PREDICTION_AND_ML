{
 "cells": [
  {
   "cell_type": "code",
   "execution_count": null,
   "id": "35a80ff1-cde9-4636-b999-b6b60dae92e0",
   "metadata": {},
   "outputs": [],
   "source": [
    "import pandas as pd\n",
    "import seaborn as sns\n",
    "import matplotlib.pyplot as plt\n",
    "from sklearn.impute import KNNImputer\n",
    "import numpy as np\n",
    "\n",
    "pd.set_option('display.max_columns', None)\n",
    "\n",
    "\n",
    "#ler df\n",
    "df_diabetes = pd.read_sas('P_DIQ.XPT', format='xport')\n",
    "\n",
    "df_diabetes = df_diabetes[['SEQN', 'DIQ010']]\n",
    "\n",
    "df_diabetes.isna().sum()\n",
    "\n",
    "df_diabetes.to_csv('dados_diabetes_tratados.csv', index=False)\n",
    "\n"
   ]
  }
 ],
 "metadata": {
  "kernelspec": {
   "display_name": "Python 3 (ipykernel)",
   "language": "python",
   "name": "python3"
  },
  "language_info": {
   "codemirror_mode": {
    "name": "ipython",
    "version": 3
   },
   "file_extension": ".py",
   "mimetype": "text/x-python",
   "name": "python",
   "nbconvert_exporter": "python",
   "pygments_lexer": "ipython3",
   "version": "3.11.7"
  }
 },
 "nbformat": 4,
 "nbformat_minor": 5
}
