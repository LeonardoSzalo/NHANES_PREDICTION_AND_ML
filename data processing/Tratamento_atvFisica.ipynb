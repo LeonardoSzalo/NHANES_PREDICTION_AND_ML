{
 "cells": [
  {
   "cell_type": "code",
   "execution_count": 2,
   "id": "ff42e6c7-d9e9-4200-832b-7569a711e923",
   "metadata": {},
   "outputs": [],
   "source": [
    "import pandas as pd\n",
    "import seaborn as sns\n",
    "import matplotlib.pyplot as plt\n",
    "from sklearn.impute import KNNImputer\n",
    "import numpy as np\n",
    "\n",
    "pd.set_option('display.max_columns', None)\n",
    "\n",
    "\n",
    "#ler df\n",
    "df_atvfisica = pd.read_sas('P_PAQ.XPT', format='xport')"
   ]
  },
  {
   "cell_type": "code",
   "execution_count": 3,
   "id": "d22e07ca-4cf2-4f0c-96ef-250e963bc9d4",
   "metadata": {},
   "outputs": [],
   "source": [
    "df_atvfisica = df_atvfisica[['SEQN', 'PAQ605', 'PAQ610', 'PAQ620', 'PAQ625']]"
   ]
  },
  {
   "cell_type": "code",
   "execution_count": 4,
   "id": "8a1dc014-a798-4837-8aaf-25f3705b0dac",
   "metadata": {},
   "outputs": [],
   "source": [
    "df_atvfisica.rename(columns={'PAQ605':'VIGOROUS_ACTIVITY', 'PAQ610':'DAYS_VIGOROUS_ACTIVITY', 'PAQ620': 'MODERATE_ACTIVITY', \n",
    "'PAQ625': 'DAYS_MODERATE_ACTIVITY'}, inplace=True)\n"
   ]
  },
  {
   "cell_type": "code",
   "execution_count": 5,
   "id": "1639a421-2f8e-4dd4-9c20-2591b1dd2c4c",
   "metadata": {},
   "outputs": [],
   "source": [
    "df_atvfisica.fillna(0, inplace=True)"
   ]
  },
  {
   "cell_type": "code",
   "execution_count": 6,
   "id": "c881fc58-ea1f-4333-aa74-f5d06b3d446e",
   "metadata": {},
   "outputs": [],
   "source": [
    "df_atvfisica.to_csv('dados_atvFisica_tratados.csv', index=False)"
   ]
  },
  {
   "cell_type": "code",
   "execution_count": null,
   "id": "35f1aa48-ae98-443c-9a95-8af42522ecd8",
   "metadata": {},
   "outputs": [],
   "source": []
  }
 ],
 "metadata": {
  "kernelspec": {
   "display_name": "Python 3 (ipykernel)",
   "language": "python",
   "name": "python3"
  },
  "language_info": {
   "codemirror_mode": {
    "name": "ipython",
    "version": 3
   },
   "file_extension": ".py",
   "mimetype": "text/x-python",
   "name": "python",
   "nbconvert_exporter": "python",
   "pygments_lexer": "ipython3",
   "version": "3.11.7"
  }
 },
 "nbformat": 4,
 "nbformat_minor": 5
}
