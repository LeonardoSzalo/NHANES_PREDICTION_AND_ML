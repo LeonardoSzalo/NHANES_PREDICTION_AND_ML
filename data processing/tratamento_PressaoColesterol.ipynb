{
 "cells": [
  {
   "cell_type": "code",
   "execution_count": null,
   "id": "9ab08c8c-1ef1-427b-8741-9f32c247d232",
   "metadata": {},
   "outputs": [],
   "source": [
    "import pandas as pd\n",
    "import seaborn as sns\n",
    "import matplotlib.pyplot as plt\n",
    "from sklearn.impute import KNNImputer\n",
    "import numpy as np\n",
    "\n",
    "pd.set_option('display.max_columns', None)\n",
    "\n",
    "\n",
    "#ler df\n",
    "df_pressao = pd.read_sas('P_BPQ.XPT', format='xport')\n",
    "\n",
    "df_pressao=df_pressao.drop(['BPQ030', 'BPD035', 'BPQ040A', 'BPQ050A', 'BPQ060', 'BPQ070', 'BPQ090D', 'BPQ100D'], axis=1)\n",
    "\n",
    "df_pressao=df_pressao.rename(columns = {'BPQ020': 'HIGH_PRESSURE', 'BPQ080': 'HIGH_CHOLESTEROL'})\n",
    "\n",
    "#Sem dados faltantes\n",
    "df_pressao.isna().sum()\n",
    "\n",
    "df_pressao.to_csv('dados_PressaoColesterol_tratados.csv', index=False)"
   ]
  },
  {
   "cell_type": "code",
   "execution_count": null,
   "id": "e190a768-6cf4-4b78-bf31-6fd92a56d5c2",
   "metadata": {},
   "outputs": [],
   "source": []
  }
 ],
 "metadata": {
  "kernelspec": {
   "display_name": "Python 3 (ipykernel)",
   "language": "python",
   "name": "python3"
  },
  "language_info": {
   "codemirror_mode": {
    "name": "ipython",
    "version": 3
   },
   "file_extension": ".py",
   "mimetype": "text/x-python",
   "name": "python",
   "nbconvert_exporter": "python",
   "pygments_lexer": "ipython3",
   "version": "3.11.7"
  }
 },
 "nbformat": 4,
 "nbformat_minor": 5
}
